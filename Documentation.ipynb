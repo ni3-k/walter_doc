{
 "cells": [
  {
   "cell_type": "markdown",
   "metadata": {},
   "source": [
    "# Requirements"
   ]
  },
  {
   "cell_type": "markdown",
   "metadata": {},
   "source": [
    "- numpy\n",
    "- pandas\n",
    "- datetime\n",
    "- pytz\n",
    "- boto3\n",
    "- pymysql"
   ]
  },
  {
   "cell_type": "markdown",
   "metadata": {},
   "source": [
    "# Class "
   ]
  },
  {
   "cell_type": "markdown",
   "metadata": {},
   "source": [
    "All the calculations required are kept in GeneralMethods.py which are used by views "
   ]
  },
  {
   "cell_type": "markdown",
   "metadata": {},
   "source": [
    "- graphData - used for Water Level and Water Flow screen\n",
    "- prediction - used for water last untill prediction at Tank screen"
   ]
  },
  {
   "cell_type": "markdown",
   "metadata": {},
   "source": [
    "## graphData "
   ]
  },
  {
   "cell_type": "markdown",
   "metadata": {},
   "source": [
    "Input: \n",
    "- devid - device id\n",
    "- timeStart - timestamp at request\n",
    "- height - height of tank\n",
    "- mytank - tank object tank properties"
   ]
  },
  {
   "cell_type": "markdown",
   "metadata": {},
   "source": [
    "##### Helper Methods"
   ]
  },
  {
   "cell_type": "markdown",
   "metadata": {},
   "source": [
    "- get_data_from_dynamodb - extract data from dynamodb using devid, start and end time.\n",
    "- extract_payload - parse dynamodb payload into tabular form(dataframe).\n",
    "- calculations - takes in parsed water level data and minimize the data.\n",
    "- resample_data - resample data by the key(day, week, month)\n",
    "- get_local_min_max - Using other helper methods, extract data, minimize data and preprocess it to return response in required format. \n",
    "- get_waterflow - Using other helper methods, extract data, minimize data and resample it to return response in required format.\n",
    "- get_tds - return min, max and mean for TD."
   ]
  },
  {
   "cell_type": "markdown",
   "metadata": {},
   "source": [
    "##### Flow "
   ]
  },
  {
   "cell_type": "markdown",
   "metadata": {},
   "source": [
    "![<Walter Flow>](walter_flow.png)"
   ]
  },
  {
   "cell_type": "markdown",
   "metadata": {},
   "source": [
    "##### Output "
   ]
  },
  {
   "cell_type": "code",
   "execution_count": 1,
   "metadata": {},
   "outputs": [
    {
     "name": "stdout",
     "output_type": "stream",
     "text": [
      "{   'closingVolume': 34404.552,\n",
      "    'inflow': 6997.535999999996,\n",
      "    'items': [   {   'datetime': Timestamp('2020-01-07 00:00:00+0530', tz='Asia/Kolkata'),\n",
      "                     'mwl': 109.1,\n",
      "                     'tanker_flag': 0},\n",
      "                 {   'datetime': Timestamp('2020-01-07 00:13:29.285000+0530', tz='Asia/Kolkata'),\n",
      "                     'mwl': 109.1,\n",
      "                     'tanker_flag': 0},\n",
      "                 {   'datetime': Timestamp('2020-01-07 00:59:59+0530', tz='Asia/Kolkata'),\n",
      "                     'mwl': 108.4,\n",
      "                     'tanker_flag': 0},\n",
      "                 {   'datetime': Timestamp('2020-01-07 01:00:00+0530', tz='Asia/Kolkata'),\n",
      "                     'mwl': 108.4,\n",
      "                     'tanker_flag': 0},\n",
      "                 {   'datetime': Timestamp('2020-01-07 01:59:59+0530', tz='Asia/Kolkata'),\n",
      "                     'mwl': 107.7,\n",
      "                     'tanker_flag': 0},\n",
      "                 {   'datetime': Timestamp('2020-01-07 02:00:00+0530', tz='Asia/Kolkata'),\n",
      "                     'mwl': 107.6,\n",
      "                     'tanker_flag': 0},\n",
      "                 {   'datetime': Timestamp('2020-01-07 02:59:59+0530', tz='Asia/Kolkata'),\n",
      "                     'mwl': 107.1,\n",
      "                     'tanker_flag': 0},\n",
      "                 {   'datetime': Timestamp('2020-01-07 03:00:00+0530', tz='Asia/Kolkata'),\n",
      "                     'mwl': 107.0,\n",
      "                     'tanker_flag': 0},\n",
      "                 {   'datetime': Timestamp('2020-01-07 03:59:59+0530', tz='Asia/Kolkata'),\n",
      "                     'mwl': 106.2,\n",
      "                     'tanker_flag': 0},\n",
      "                 {   'datetime': Timestamp('2020-01-07 04:00:00+0530', tz='Asia/Kolkata'),\n",
      "                     'mwl': 106.2,\n",
      "                     'tanker_flag': 0},\n",
      "                 {   'datetime': Timestamp('2020-01-07 04:48:31.920000+0530', tz='Asia/Kolkata'),\n",
      "                     'mwl': 105.8,\n",
      "                     'tanker_flag': 0},\n",
      "                 {   'datetime': Timestamp('2020-01-07 04:59:59+0530', tz='Asia/Kolkata'),\n",
      "                     'mwl': 105.7,\n",
      "                     'tanker_flag': 0},\n",
      "                 {   'datetime': Timestamp('2020-01-07 05:00:00+0530', tz='Asia/Kolkata'),\n",
      "                     'mwl': 105.6,\n",
      "                     'tanker_flag': 0},\n",
      "                 {   'datetime': Timestamp('2020-01-07 05:59:59+0530', tz='Asia/Kolkata'),\n",
      "                     'mwl': 104.6,\n",
      "                     'tanker_flag': 0},\n",
      "                 {   'datetime': Timestamp('2020-01-07 06:00:00+0530', tz='Asia/Kolkata'),\n",
      "                     'mwl': 104.6,\n",
      "                     'tanker_flag': 0},\n",
      "                 {   'datetime': Timestamp('2020-01-07 06:59:59+0530', tz='Asia/Kolkata'),\n",
      "                     'mwl': 101.9,\n",
      "                     'tanker_flag': 0},\n",
      "                 {   'datetime': Timestamp('2020-01-07 07:00:00+0530', tz='Asia/Kolkata'),\n",
      "                     'mwl': 101.6,\n",
      "                     'tanker_flag': 0},\n",
      "                 {   'datetime': Timestamp('2020-01-07 07:59:59+0530', tz='Asia/Kolkata'),\n",
      "                     'mwl': 95.8,\n",
      "                     'tanker_flag': 0},\n",
      "                 {   'datetime': Timestamp('2020-01-07 08:00:00+0530', tz='Asia/Kolkata'),\n",
      "                     'mwl': 95.2,\n",
      "                     'tanker_flag': 0},\n",
      "                 {   'datetime': Timestamp('2020-01-07 08:03:33.981000+0530', tz='Asia/Kolkata'),\n",
      "                     'mwl': 94.9,\n",
      "                     'tanker_flag': 0},\n",
      "                 {   'datetime': Timestamp('2020-01-07 08:19:31.358000+0530', tz='Asia/Kolkata'),\n",
      "                     'mwl': 95.9,\n",
      "                     'tanker_flag': 1},\n",
      "                 {   'datetime': Timestamp('2020-01-07 08:54:33.183000+0530', tz='Asia/Kolkata'),\n",
      "                     'mwl': 113.1,\n",
      "                     'tanker_flag': 0},\n",
      "                 {   'datetime': Timestamp('2020-01-07 08:59:59+0530', tz='Asia/Kolkata'),\n",
      "                     'mwl': 114.1,\n",
      "                     'tanker_flag': 0},\n",
      "                 {   'datetime': Timestamp('2020-01-07 09:00:00+0530', tz='Asia/Kolkata'),\n",
      "                     'mwl': 114.1,\n",
      "                     'tanker_flag': 0},\n",
      "                 {   'datetime': Timestamp('2020-01-07 09:02:58.499000+0530', tz='Asia/Kolkata'),\n",
      "                     'mwl': 114.1,\n",
      "                     'tanker_flag': 0},\n",
      "                 {   'datetime': Timestamp('2020-01-07 09:59:59+0530', tz='Asia/Kolkata'),\n",
      "                     'mwl': 108.9,\n",
      "                     'tanker_flag': 0},\n",
      "                 {   'datetime': Timestamp('2020-01-07 10:00:00+0530', tz='Asia/Kolkata'),\n",
      "                     'mwl': 108.7,\n",
      "                     'tanker_flag': 0},\n",
      "                 {   'datetime': Timestamp('2020-01-07 10:59:59+0530', tz='Asia/Kolkata'),\n",
      "                     'mwl': 99.4,\n",
      "                     'tanker_flag': 0},\n",
      "                 {   'datetime': Timestamp('2020-01-07 11:00:00+0530', tz='Asia/Kolkata'),\n",
      "                     'mwl': 99.0,\n",
      "                     'tanker_flag': 0},\n",
      "                 {   'datetime': Timestamp('2020-01-07 11:41:57.283000+0530', tz='Asia/Kolkata'),\n",
      "                     'mwl': 94.9,\n",
      "                     'tanker_flag': 0},\n",
      "                 {   'datetime': Timestamp('2020-01-07 11:45:00.700000+0530', tz='Asia/Kolkata'),\n",
      "                     'mwl': 94.4,\n",
      "                     'tanker_flag': 0},\n",
      "                 {   'datetime': Timestamp('2020-01-07 11:59:59+0530', tz='Asia/Kolkata'),\n",
      "                     'mwl': 94.4,\n",
      "                     'tanker_flag': 0}],\n",
      "    'openingVolume': 39762.0405,\n",
      "    'outflow': 12355.024499999992,\n",
      "    'tanker_count': 1,\n",
      "    'tanker_volume': 6268.625999999997}\n"
     ]
    }
   ],
   "source": [
    "import pprint\n",
    "from pandas import Timestamp\n",
    "water_level = {'items': [{'mwl': 109.1, 'tanker_flag': 0, 'datetime': Timestamp('2020-01-07 00:00:00+0530', tz='Asia/Kolkata')}, {'mwl': 109.1, 'tanker_flag': 0, 'datetime': Timestamp('2020-01-07 00:13:29.285000+0530', tz='Asia/Kolkata')}, {'mwl': 108.4, 'tanker_flag': 0, 'datetime': Timestamp('2020-01-07 00:59:59+0530', tz='Asia/Kolkata')}, {'mwl': 108.4, 'tanker_flag': 0, 'datetime': Timestamp('2020-01-07 01:00:00+0530', tz='Asia/Kolkata')}, {'mwl': 107.7, 'tanker_flag': 0, 'datetime': Timestamp('2020-01-07 01:59:59+0530', tz='Asia/Kolkata')}, {'mwl': 107.6, 'tanker_flag': 0, 'datetime': Timestamp('2020-01-07 02:00:00+0530', tz='Asia/Kolkata')}, {'mwl': 107.1, 'tanker_flag': 0, 'datetime': Timestamp('2020-01-07 02:59:59+0530', tz='Asia/Kolkata')}, {'mwl': 107.0, 'tanker_flag': 0, 'datetime': Timestamp('2020-01-07 03:00:00+0530', tz='Asia/Kolkata')}, {'mwl': 106.2, 'tanker_flag': 0, 'datetime': Timestamp('2020-01-07 03:59:59+0530', tz='Asia/Kolkata')}, {'mwl': 106.2, 'tanker_flag': 0, 'datetime': Timestamp('2020-01-07 04:00:00+0530', tz='Asia/Kolkata')}, {'mwl': 105.8, 'tanker_flag': 0, 'datetime': Timestamp('2020-01-07 04:48:31.920000+0530', tz='Asia/Kolkata')}, {'mwl': 105.7, 'tanker_flag': 0, 'datetime': Timestamp('2020-01-07 04:59:59+0530', tz='Asia/Kolkata')}, {'mwl': 105.6, 'tanker_flag': 0, 'datetime': Timestamp('2020-01-07 05:00:00+0530', tz='Asia/Kolkata')}, {'mwl': 104.6, 'tanker_flag': 0, 'datetime': Timestamp('2020-01-07 05:59:59+0530', tz='Asia/Kolkata')}, {'mwl': 104.6, 'tanker_flag': 0, 'datetime': Timestamp('2020-01-07 06:00:00+0530', tz='Asia/Kolkata')}, {'mwl': 101.9, 'tanker_flag': 0, 'datetime': Timestamp('2020-01-07 06:59:59+0530', tz='Asia/Kolkata')}, {'mwl': 101.6, 'tanker_flag': 0, 'datetime': Timestamp('2020-01-07 07:00:00+0530', tz='Asia/Kolkata')}, {'mwl': 95.8, 'tanker_flag': 0, 'datetime': Timestamp('2020-01-07 07:59:59+0530', tz='Asia/Kolkata')}, {'mwl': 95.2, 'tanker_flag': 0, 'datetime': Timestamp('2020-01-07 08:00:00+0530', tz='Asia/Kolkata')}, {'mwl': 94.9, 'tanker_flag': 0, 'datetime': Timestamp('2020-01-07 08:03:33.981000+0530', tz='Asia/Kolkata')}, {'mwl': 95.9, 'tanker_flag': 1, 'datetime': Timestamp('2020-01-07 08:19:31.358000+0530', tz='Asia/Kolkata')}, {'mwl': 113.1, 'tanker_flag': 0, 'datetime': Timestamp('2020-01-07 08:54:33.183000+0530', tz='Asia/Kolkata')}, {'mwl': 114.1, 'tanker_flag': 0, 'datetime': Timestamp('2020-01-07 08:59:59+0530', tz='Asia/Kolkata')}, {'mwl': 114.1, 'tanker_flag': 0, 'datetime': Timestamp('2020-01-07 09:00:00+0530', tz='Asia/Kolkata')}, {'mwl': 114.1, 'tanker_flag': 0, 'datetime': Timestamp('2020-01-07 09:02:58.499000+0530', tz='Asia/Kolkata')}, {'mwl': 108.9, 'tanker_flag': 0, 'datetime': Timestamp('2020-01-07 09:59:59+0530', tz='Asia/Kolkata')}, {'mwl': 108.7, 'tanker_flag': 0, 'datetime': Timestamp('2020-01-07 10:00:00+0530', tz='Asia/Kolkata')}, {'mwl': 99.4, 'tanker_flag': 0, 'datetime': Timestamp('2020-01-07 10:59:59+0530', tz='Asia/Kolkata')}, {'mwl': 99.0, 'tanker_flag': 0, 'datetime': Timestamp('2020-01-07 11:00:00+0530', tz='Asia/Kolkata')}, {'mwl': 94.9, 'tanker_flag': 0, 'datetime': Timestamp('2020-01-07 11:41:57.283000+0530', tz='Asia/Kolkata')}, {'mwl': 94.4, 'tanker_flag': 0, 'datetime': Timestamp('2020-01-07 11:45:00.700000+0530', tz='Asia/Kolkata')}, {'mwl': 94.4, 'tanker_flag': 0, 'datetime': Timestamp('2020-01-07 11:59:59+0530', tz='Asia/Kolkata')}], 'tanker_volume': 6268.625999999997, 'closingVolume': 34404.552, 'inflow': 6997.535999999996, 'tanker_count': 1, 'outflow': 12355.024499999992, 'openingVolume': 39762.0405}\n",
    "\n",
    "pp = pprint.PrettyPrinter(indent=4)\n",
    "pp.pprint(water_level)"
   ]
  },
  {
   "cell_type": "code",
   "execution_count": 2,
   "metadata": {},
   "outputs": [
    {
     "name": "stdout",
     "output_type": "stream",
     "text": [
      "{   'items': [   {   'date': Timestamp('2019-12-31 00:00:00+0530', tz='Asia/Kolkata', freq='D'),\n",
      "                     'notTanker': 984.0285000000011,\n",
      "                     'outflow': -21721.51800000001,\n",
      "                     'tanker': 22231.75500000001},\n",
      "                 {   'date': Timestamp('2020-01-01 00:00:00+0530', tz='Asia/Kolkata', freq='D'),\n",
      "                     'notTanker': 473.791499999999,\n",
      "                     'outflow': -17858.295000000002,\n",
      "                     'tanker': 22486.873500000005},\n",
      "                 {   'date': Timestamp('2020-01-02 00:00:00+0530', tz='Asia/Kolkata', freq='D'),\n",
      "                     'notTanker': 2259.6210000000015,\n",
      "                     'outflow': -16983.603000000006,\n",
      "                     'tanker': 16874.2665},\n",
      "                 {   'date': Timestamp('2020-01-03 00:00:00+0530', tz='Asia/Kolkata', freq='D'),\n",
      "                     'notTanker': 218.67299999999796,\n",
      "                     'outflow': -20591.707500000004,\n",
      "                     'tanker': 22705.546500000008},\n",
      "                 {   'date': Timestamp('2020-01-04 00:00:00+0530', tz='Asia/Kolkata', freq='D'),\n",
      "                     'notTanker': 510.2370000000021,\n",
      "                     'outflow': -25110.94950000001,\n",
      "                     'tanker': 27844.362000000005},\n",
      "                 {   'date': Timestamp('2020-01-05 00:00:00+0530', tz='Asia/Kolkata', freq='D'),\n",
      "                     'notTanker': 182.22749999999485,\n",
      "                     'outflow': -15161.328,\n",
      "                     'tanker': 24236.257500000003},\n",
      "                 {   'date': Timestamp('2020-01-06 00:00:00+0530', tz='Asia/Kolkata', freq='D'),\n",
      "                     'notTanker': 911.1374999999949,\n",
      "                     'outflow': -21940.191000000003,\n",
      "                     'tanker': 21940.19100000001}]}\n"
     ]
    }
   ],
   "source": [
    "inflow_outflow = {'items': [{'tanker': 22231.75500000001, 'date': Timestamp('2019-12-31 00:00:00+0530', tz='Asia/Kolkata', freq='D'), 'outflow': -21721.51800000001, 'notTanker': 984.0285000000011}, {'tanker': 22486.873500000005, 'date': Timestamp('2020-01-01 00:00:00+0530', tz='Asia/Kolkata', freq='D'), 'outflow': -17858.295000000002, 'notTanker': 473.791499999999}, {'tanker': 16874.2665, 'date': Timestamp('2020-01-02 00:00:00+0530', tz='Asia/Kolkata', freq='D'), 'outflow': -16983.603000000006, 'notTanker': 2259.6210000000015}, {'tanker': 22705.546500000008, 'date': Timestamp('2020-01-03 00:00:00+0530', tz='Asia/Kolkata', freq='D'), 'outflow': -20591.707500000004, 'notTanker': 218.67299999999796}, {'tanker': 27844.362000000005, 'date': Timestamp('2020-01-04 00:00:00+0530', tz='Asia/Kolkata', freq='D'), 'outflow': -25110.94950000001, 'notTanker': 510.2370000000021}, {'tanker': 24236.257500000003, 'date': Timestamp('2020-01-05 00:00:00+0530', tz='Asia/Kolkata', freq='D'), 'outflow': -15161.328, 'notTanker': 182.22749999999485}, {'tanker': 21940.19100000001, 'date': Timestamp('2020-01-06 00:00:00+0530', tz='Asia/Kolkata', freq='D'), 'outflow': -21940.191000000003, 'notTanker': 911.1374999999949}]}\n",
    "pp.pprint(inflow_outflow)"
   ]
  },
  {
   "cell_type": "markdown",
   "metadata": {},
   "source": [
    "## prediction"
   ]
  },
  {
   "cell_type": "markdown",
   "metadata": {},
   "source": [
    "Input:\n",
    "- devid - device id\n",
    "- current_wl - current water level"
   ]
  },
  {
   "cell_type": "markdown",
   "metadata": {},
   "source": [
    "##### Helper Methods"
   ]
  },
  {
   "cell_type": "markdown",
   "metadata": {},
   "source": [
    "- __init__ - initialise object parameter and get data from inflowOutflow table.\n",
    "- db_connect - connect to MySQL database for extracting data from inflowOutflow table\n",
    "- predict - outputs water last untill in epochtime(miliseconds)"
   ]
  }
 ],
 "metadata": {
  "kernelspec": {
   "display_name": "Python 3",
   "language": "python",
   "name": "python3"
  },
  "language_info": {
   "codemirror_mode": {
    "name": "ipython",
    "version": 3
   },
   "file_extension": ".py",
   "mimetype": "text/x-python",
   "name": "python",
   "nbconvert_exporter": "python",
   "pygments_lexer": "ipython3",
   "version": "3.5.2"
  }
 },
 "nbformat": 4,
 "nbformat_minor": 2
}
